{
 "cells": [
  {
   "cell_type": "code",
   "execution_count": 46,
   "id": "4f3b2a85-b049-47f6-9304-5eb0d164a420",
   "metadata": {},
   "outputs": [],
   "source": [
    "# Giovana de Moura, authoral translation.\n",
    "\n",
    "# Edit Distance is a way to quantify the similiarity between two sequences of strings\n",
    "# The 'Minimum Distance' is the lowest number of operations needed to transform on string\n",
    "# into another one.\n",
    "\n",
    "# This process is useful to:\n",
    "# 1. Ortographic correction \n",
    "# 2. Coeference resolution\n",
    "# 3. Linguistics variants identification \n",
    "# 4. Cognates identifiers \n",
    "\n",
    "# Giovana de Moura Dias Oliveira"
   ]
  },
  {
   "cell_type": "code",
   "execution_count": 47,
   "id": "a064530b-982a-4644-8f0b-4b5c230032f9",
   "metadata": {},
   "outputs": [
    {
     "name": "stdout",
     "output_type": "stream",
     "text": [
      "A distância de Levenshtein entre Bello Horizonte e Belo Horizonte é igual a 1\n"
     ]
    }
   ],
   "source": [
    "# How to calculate?\n",
    "\n",
    "# Hamming Distance, Jaro Distance, Levenshtein Distance (insert, remove and replace)\n",
    "\n",
    "# In Python, we have a library for this: editdistance, but let's use nltk\n",
    "\n",
    "from nltk.metrics import *\n",
    "\n",
    "string1 = 'Bello Horizonte'\n",
    "string2 = 'Belo Horizonte'\n",
    "\n",
    "distancia = edit_distance(string1, string2)\n",
    "\n",
    "print(f'A distância de Levenshtein entre {string1} e {string2} é igual a {distancia}')\n"
   ]
  },
  {
   "cell_type": "code",
   "execution_count": 48,
   "id": "666b6b07-c45e-4542-aca6-4c8f2636d5ea",
   "metadata": {},
   "outputs": [
    {
     "name": "stdout",
     "output_type": "stream",
     "text": [
      "A distância de Levenshtein entre Minas Geraes e Minas Gerais é igual a 1\n"
     ]
    }
   ],
   "source": [
    "# Replacing \n",
    "string1 = 'Minas Geraes'\n",
    "string2 = 'Minas Gerais'\n",
    "\n",
    "distancia = edit_distance(string1, string2)\n",
    "\n",
    "print(f'A distância de Levenshtein entre {string1} e {string2} é igual a {distancia}')\n"
   ]
  },
  {
   "cell_type": "code",
   "execution_count": 49,
   "id": "96335378-2049-4825-885d-9a1e1889eeed",
   "metadata": {},
   "outputs": [
    {
     "name": "stdout",
     "output_type": "stream",
     "text": [
      "A distância de Levenshtein entre Minas Geraes e Minas Gerais é igual a 2\n"
     ]
    }
   ],
   "source": [
    "# Defining the cost of the operation as 2\n",
    "string1 = 'Minas Geraes'\n",
    "string2 = 'Minas Gerais'\n",
    "\n",
    "distancia = edit_distance(string1, string2, substitution_cost = 2)\n",
    "\n",
    "print(f'A distância de Levenshtein entre {string1} e {string2} é igual a {distancia}')"
   ]
  },
  {
   "cell_type": "code",
   "execution_count": 50,
   "id": "3f8fdcc4-94d4-4c07-9770-e887f952ddf8",
   "metadata": {},
   "outputs": [
    {
     "name": "stdout",
     "output_type": "stream",
     "text": [
      "[('inteligentr', 'inteligente')]\n",
      "[('sõ', 'Sem sugestão'), ('brilhantess', 'brilhantes')]\n",
      "[('muleres', 'mulheres'), ('brilantes', 'brilhantes')]\n",
      "[('milher', 'mulher')]\n"
     ]
    }
   ],
   "source": [
    "# Building a small corrector\n",
    "# 1. --> receive a text as input\n",
    "# 2. --> return the wrongly written words\n",
    "# 3. the algorythm must know the correct words beforehand\n",
    "\n",
    "# Defining the word list\n",
    "\n",
    "corretas = [\n",
    "    \"O\", \"A\", \"Os\", \"As\",\n",
    "    \"homem\", \"homens\", \"mulher\", \"mulheres\",\n",
    "    \"é\", \"são\",\n",
    "    \"inteligente\", \"inteligentes\",\n",
    "    \"brilhante\", \"brilhantes\"\n",
    "]\n",
    "\n",
    "# Split the text in words (tokenization), compare the words with the words we have in the list above,\n",
    "# if it's not there, it's incorrect. Sugest a corretion (use Levenshtein for this)\n",
    "\n",
    "import difflib # a library to help us sugest the closest word\n",
    "\n",
    "def corretor(texto):\n",
    "    corretas = [\n",
    "    \"O\", \"A\", \"Os\", \"As\",\n",
    "    \"homem\", \"homens\", \"mulher\", \"mulheres\",\n",
    "    \"é\", \"são\",\n",
    "    \"inteligente\", \"inteligentes\",\n",
    "    \"brilhante\", \"brilhantes\"\n",
    "    ]\n",
    "\n",
    "    palavras_separadas = texto.split() # spliting the text in words\n",
    "    erros = []\n",
    "\n",
    "    for palavra in palavras_separadas:\n",
    "        if palavra not in corretas:\n",
    "            sugestoes = difflib.get_close_matches(palavra, corretas, n=1) # how many you want\n",
    "            if sugestoes:\n",
    "                erros.append((palavra, sugestoes[0]))\n",
    "            else:\n",
    "                erros.append((palavra, 'Sem sugestão'))\n",
    "    return erros\n",
    "\n",
    "frase1 = \"O homem é inteligentr\"\n",
    "frase2 = \"Os homens sõ brilhantess\"\n",
    "frase3 = \"As muleres são brilantes\"\n",
    "frase4 = \"A milher é inteligente\"\n",
    "\n",
    "print(corretor(frase1))\n",
    "print(corretor(frase2))\n",
    "print(corretor(frase3))\n",
    "print(corretor(frase4))\n"
   ]
  },
  {
   "cell_type": "code",
   "execution_count": 51,
   "id": "7d4ea71a-aa7f-4134-bf78-ce47721705e2",
   "metadata": {},
   "outputs": [
    {
     "name": "stdout",
     "output_type": "stream",
     "text": [
      "Pares de línguas ordenados da mais próxima para a mais distante:\n",
      "\n",
      "Português x Espanhol: distância média = 1.17\n",
      "Espanhol x Português: distância média = 1.17\n",
      "Português x Italiano: distância média = 3.17\n",
      "Espanhol x Italiano: distância média = 3.17\n",
      "Italiano x Português: distância média = 3.17\n",
      "Italiano x Espanhol: distância média = 3.17\n",
      "Português x Russo: distância média = 4.33\n",
      "Espanhol x Russo: distância média = 4.33\n",
      "Russo x Português: distância média = 4.33\n",
      "Russo x Espanhol: distância média = 4.33\n",
      "Italiano x Russo: distância média = 5.17\n",
      "Russo x Italiano: distância média = 5.17\n"
     ]
    }
   ],
   "source": [
    "# Now, we are going to compare different languages and calculate how much they are alike\n",
    "\n",
    "# Step 1. Importing the Levenshtein library and creating a dictionary \n",
    "import Levenshtein \n",
    "\n",
    "# List of words\n",
    "portugues = [\"kabelu\", \"kabesa\", \"oreLa\", \"oLu\", \"nariS\", \"boka\"]\n",
    "espanhol =  [\"kabeSo\", \"kabe8a\", \"orexa\", \"oxo\", \"nari8\", \"boka\"]\n",
    "italiano =  [\"kapello\", \"testa\", \"orekkyo\", \"okkyo\", \"nazo\", \"bokka\"]\n",
    "russo =     [\"voL3s3\", \"g3Lava\", \"ux3\", \"gLas\", \"nos\", \"rot\"]\n",
    "\n",
    "linguas = {\n",
    "    'Português' : portugues,\n",
    "    'Espanhol' : espanhol,\n",
    "    'Italiano' : italiano,\n",
    "    'Russo' : russo\n",
    "}\n",
    "\n",
    "# Step 2. Calculating the average distance between them\n",
    "def distancia_media(lista1, lista2):\n",
    "    total = 0\n",
    "    for p1, p2 in zip(lista1, lista2):\n",
    "        total += Levenshtein.distance(p1, p2)\n",
    "    return total / len(lista1) # return the average\n",
    "\n",
    "# Step 3. Comparing all the languages\n",
    "pares = []\n",
    "\n",
    "for l1 in linguas:\n",
    "    for l2 in linguas:\n",
    "        if l1 != l2:\n",
    "            media = distancia_media(linguas[l1], linguas[l2])\n",
    "            pares.append((l1, l2, media))\n",
    "\n",
    "# Last Step. Order the languages by distance\n",
    "pares.sort(key=lambda x: x[2])\n",
    " \n",
    "print('Pares de línguas ordenados da mais próxima para a mais distante:\\n')\n",
    "for l1, l2, media in pares:\n",
    "    print(f'{l1} x {l2}: distância média = {media:.2f}')\n"
   ]
  }
 ],
 "metadata": {
  "kernelspec": {
   "display_name": "Python [conda env:base] *",
   "language": "python",
   "name": "conda-base-py"
  },
  "language_info": {
   "codemirror_mode": {
    "name": "ipython",
    "version": 3
   },
   "file_extension": ".py",
   "mimetype": "text/x-python",
   "name": "python",
   "nbconvert_exporter": "python",
   "pygments_lexer": "ipython3",
   "version": "3.12.7"
  }
 },
 "nbformat": 4,
 "nbformat_minor": 5
}
