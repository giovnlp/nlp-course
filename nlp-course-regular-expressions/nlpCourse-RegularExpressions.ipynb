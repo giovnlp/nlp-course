{
 "cells": [
  {
   "cell_type": "code",
   "execution_count": 41,
   "id": "b9dda1a6-d223-4c06-bcd7-27a01d946f41",
   "metadata": {},
   "outputs": [],
   "source": [
    "# NLP Pipeline is a set of steps followed to build an end to end NLP software\n",
    "\n",
    "# 1. Data Acquisition\n",
    "# 2. Text Preparation --> Clean Up, Basic Preprocessing, Advanced Preprocessing\n",
    "# 3. Feature Engineering\n",
    "# 4. Modelling --> Building and Evaluation\n",
    "# 5. Deployment (Monitoring, Model Update)\n",
    "\n",
    "# Giovana de Moura Dias Oliveira"
   ]
  },
  {
   "cell_type": "code",
   "execution_count": 42,
   "id": "e01bcc37-269f-4e3f-a926-ae8e872724ac",
   "metadata": {},
   "outputs": [
    {
     "data": {
      "text/plain": [
       "['mal', 'mal', 'mal', 'mal', 'mal', 'mal', 'mal', 'mal', 'mal', 'mal']"
      ]
     },
     "execution_count": 42,
     "metadata": {},
     "output_type": "execute_result"
    }
   ],
   "source": [
    "# standart librarie for regular expressions\n",
    "import re\n",
    "\n",
    "poema = \"\"\"\n",
    "Ainda que mal pergunte, \n",
    "ainda que mal respondas; \n",
    "ainda que mal te entenda, \n",
    "ainda que mal repitas; \n",
    "ainda que mal insista, \n",
    "ainda que mal desculpes; \n",
    "ainda que mal me exprima, \n",
    "ainda que mal me julgues; \n",
    "ainda que mal me mostre, \n",
    "ainda que mal me vejas; \"\"\"\n",
    "\n",
    "# findall is used to find all the occurences \n",
    "# the 'r' is used to differenciate a re from a text\n",
    "re.findall(r\"mal\", poema)"
   ]
  },
  {
   "cell_type": "code",
   "execution_count": 43,
   "id": "34a9ffba-19ee-49cb-9e4d-6f087c7c4ff8",
   "metadata": {},
   "outputs": [
    {
     "name": "stdout",
     "output_type": "stream",
     "text": [
      "10\n"
     ]
    }
   ],
   "source": [
    "# I can puut it in a len() function to count the occurences\n",
    "occurencies = len(re.findall(r\"mal\", poema))\n",
    "print(occurencies)"
   ]
  },
  {
   "cell_type": "code",
   "execution_count": 44,
   "id": "a136d2b7-6bc9-4c6a-a801-5967a08fce97",
   "metadata": {},
   "outputs": [],
   "source": [
    "# Disjunction is a method to define more than 1 possible character in a RE position\n",
    "# This is defined between ()"
   ]
  },
  {
   "cell_type": "code",
   "execution_count": 45,
   "id": "ad022971-3fac-402a-b9f4-b1dae2b256a0",
   "metadata": {},
   "outputs": [
    {
     "data": {
      "text/plain": [
       "10"
      ]
     },
     "execution_count": 45,
     "metadata": {},
     "output_type": "execute_result"
    }
   ],
   "source": [
    "# Finding how many times 'ainda que mal' appears in the text using disjunction\n",
    "sentence = re.findall(r'[Aa]inda que mal', poema)\n",
    "len(sentence)"
   ]
  },
  {
   "cell_type": "code",
   "execution_count": 46,
   "id": "b2a5432f-9e69-42d6-aed9-2e4ed6dd9ba1",
   "metadata": {},
   "outputs": [
    {
     "data": {
      "text/plain": [
       "14"
      ]
     },
     "execution_count": 46,
     "metadata": {},
     "output_type": "execute_result"
    }
   ],
   "source": [
    "# We can also ask for a range of letters or numbers\n",
    "tv = (\"\"\"Smart TV LED 32\" S5400AF TCL FHD Android TV - A Melhor Escolha para Seu Entretenimento!\n",
    "Você está em busca de uma Smart TV com qualidade de imagem incrível e funcionalidades modernas?\n",
    "A Smart TV LED 32\" S5400AF TCL FHD Android TV é a escolha perfeita para transformar a sua sala \n",
    "em um centro de entretenimento! Com a tecnologia Full HD (FHD), essa TV LED 32\" oferece cores vivas, \n",
    "definição nítida e uma experiência de visualização imersiva.\"\"\")\n",
    "\n",
    "# Finding all the number in the text\n",
    "len(re.findall(r'[0-9]', tv))"
   ]
  },
  {
   "cell_type": "code",
   "execution_count": 47,
   "id": "bce1ab54-a2ed-4534-9a7d-34c896bf48d0",
   "metadata": {},
   "outputs": [
    {
     "data": {
      "text/plain": [
       "442"
      ]
     },
     "execution_count": 47,
     "metadata": {},
     "output_type": "execute_result"
    }
   ],
   "source": [
    "# Checking the number of elements \n",
    "len(tv)"
   ]
  },
  {
   "cell_type": "code",
   "execution_count": 48,
   "id": "0cde5e6b-cd34-4ab8-951b-8fa67c484401",
   "metadata": {},
   "outputs": [
    {
     "data": {
      "text/plain": [
       "401"
      ]
     },
     "execution_count": 48,
     "metadata": {},
     "output_type": "execute_result"
    }
   ],
   "source": [
    "# Exceptions --> just like in math, we use the symbol '^' to denotate a negation (exception)\n",
    "\n",
    "# Asking for all the elements, except the letter 'A' and 'a\n",
    "len(re.findall(r'[^Aa]', tv))"
   ]
  },
  {
   "cell_type": "code",
   "execution_count": 49,
   "id": "4ac4be31-394e-4b32-8721-a661b9c0642f",
   "metadata": {},
   "outputs": [
    {
     "data": {
      "text/plain": [
       "41"
      ]
     },
     "execution_count": 49,
     "metadata": {},
     "output_type": "execute_result"
    }
   ],
   "source": [
    "# Times the letter 'a' appears in the text\n",
    "minus = len(tv) - len(re.findall(r'[^Aa]', tv))\n",
    "minus"
   ]
  },
  {
   "cell_type": "code",
   "execution_count": 50,
   "id": "3542b0ce-9042-4898-8005-0e97bdf472a5",
   "metadata": {},
   "outputs": [
    {
     "data": {
      "text/plain": [
       "90"
      ]
     },
     "execution_count": 50,
     "metadata": {},
     "output_type": "execute_result"
    }
   ],
   "source": [
    "# To search for more than one thing at a time\n",
    "len(re.findall(r'[me|mal]', poema))"
   ]
  },
  {
   "cell_type": "code",
   "execution_count": 51,
   "id": "96e4b584-cbc3-4e42-8d91-3fe032cb9ecc",
   "metadata": {},
   "outputs": [],
   "source": [
    "# Now, if you want something at the beggining or end of a line\n",
    "# Use '^' and [$] \n",
    "# Use \\b to delimitate a word --> \\bAINDA QUE\\b\n",
    " \n",
    "# Now, the quantifiers, very useful for twitter and social media\n",
    "# --> use 'a+' to get 1 or infinite 'a's. (ex: aaaa)\n",
    "# --> use 'a+h!' to get (ahhh!, ahhhhh!)\n",
    "# --> use 'objec?to' to get (objeto or objecto)\n",
    "# --> use 'a{2,} to get (at least two 'a's)\n",
    "# --> use 'a{2,3}' to get from 1 to 2 'a's\n",
    "# --> use 'a+?' to get the lowest quantity possible\n",
    "\n",
    "# Using () to agrupate\n",
    "# --> ([Hh]a)+"
   ]
  },
  {
   "cell_type": "code",
   "execution_count": 52,
   "id": "2caa6b4b-ce61-45a5-8158-9a2adfe506de",
   "metadata": {},
   "outputs": [
    {
     "name": "stdout",
     "output_type": "stream",
     "text": [
      "0 6 Hahaha\n",
      "7 11 haha\n",
      "26 32 Hahaha\n",
      "33 39 hahaha\n",
      "54 58 Haha\n",
      "94 98 kkkk\n"
     ]
    }
   ],
   "source": [
    "amostra = \"\"\"Hahahahhaha \n",
    "             Hahahahhahaha \n",
    "             Haha \n",
    "             HAHAHAH\n",
    "             kkkk\"\"\"\n",
    "\n",
    "regex = re.compile(r'[Kk]+|([Hh]a)+|([Hh]ua)+')\n",
    "iterador = regex.finditer(amostra)\n",
    "\n",
    "for ex in iterador:\n",
    "    inicio, fim = ex.span()\n",
    "    print(inicio, fim, amostra[inicio:fim])"
   ]
  },
  {
   "cell_type": "code",
   "execution_count": 53,
   "id": "4ca2bda9-6963-412d-aaa2-844e6c7b8138",
   "metadata": {},
   "outputs": [
    {
     "name": "stdout",
     "output_type": "stream",
     "text": [
      "Reconheço que tomei decisões insatisfatórias recentemente mas posso lhe garantir com absoluta certeza que meu trabalho voltará ao normal\n"
     ]
    }
   ],
   "source": [
    "texto = \"\"\"Reconheço que tomei decisões insatisfatórias recentemente, mas posso lhe \n",
    "garantir com absoluta certeza que meu trabalho voltará ao normal.\"\"\"\n",
    "\n",
    "# Now, we have '.sub' to exchange some things \n",
    "# Here, the punctiation marks are being replaced by an empty space\n",
    "print(re.sub(r'[,;.?!\\n]', '', texto))"
   ]
  },
  {
   "cell_type": "code",
   "execution_count": 54,
   "id": "fd757043-54f6-4c7e-9326-e85e6eee30e4",
   "metadata": {},
   "outputs": [
    {
     "data": {
      "text/plain": [
       "'000-02125'"
      ]
     },
     "execution_count": 54,
     "metadata": {},
     "output_type": "execute_result"
    }
   ],
   "source": [
    "# Let's take a CEP and revert the numbers\n",
    "\n",
    "cep = '02125-000'\n",
    "\n",
    "# \n",
    "re.sub(r'([0-9]{5})-([0-9]{3})', r'\\2-\\1', cep)"
   ]
  },
  {
   "cell_type": "code",
   "execution_count": 55,
   "id": "563db94c-c33f-40a7-8809-8ff9bc98aea9",
   "metadata": {},
   "outputs": [],
   "source": [
    "# Building a function called 'busca'. Two parameter: 'query' and 'documents'\n",
    "# --> The function must return all the texts from the docs that contain the words\n",
    "# from query\n",
    "# The 'resultado' variable receives the matches\n",
    "\n",
    "def busca(query, documentos):\n",
    "\n",
    "    resultado = [] \n",
    "\n",
    "    for doc in documentos: # going through all the elements in the variable \n",
    "        encontrou_todas = True # Let's assume the document is valid\n",
    "        \n",
    "        for palavra in query: # now we want to see if all the words from query are here\n",
    "            \n",
    "            if not re.search(rf'\\b{re.escape(palavra)}\\b', doc, re.IGNORECASE):\n",
    "                 encontrou_todas = False\n",
    "                 break # if the first word is already not there, we stop\n",
    "                \n",
    "        if encontrou_todas: # BUT if it has all the words...\n",
    "                resultado.append(doc) # the document is appended to the list!\n",
    "                \n",
    "    return resultado\n",
    "                     \n",
    "\n",
    "\n",
    "\n",
    "\n",
    "# re.search --> first occurence \n",
    "# re.IGNORECASE --> well, ignore the case :)\n",
    "\n",
    "    \n"
   ]
  },
  {
   "cell_type": "code",
   "execution_count": 56,
   "id": "cb43b20e-7b1c-4c39-9046-0e0d9fe5a59f",
   "metadata": {},
   "outputs": [
    {
     "name": "stdout",
     "output_type": "stream",
     "text": [
      "📄 Documentos que combinam com a busca:\n",
      "-->  Programar em Python pode ser divertido.\n"
     ]
    }
   ],
   "source": [
    "# Now, testing the function\n",
    "\n",
    "query = [\"python\", \"programar\"]\n",
    "\n",
    "documentos =  [\"Hoje é um bom dia para estudar programação.\",\n",
    "    \"Programar em Python pode ser divertido.\",\n",
    "    \"Estudar expressões regulares ajuda muito.\",\n",
    "    \"Python é uma linguagem poderosa.\",\n",
    "    \"Aprender é um processo contínuo.\"\n",
    "]\n",
    "\n",
    "resultado = busca(query, documentos)\n",
    "\n",
    "print(\"📄 Documentos que combinam com a busca:\")\n",
    "for doc in resultado:\n",
    "    print('--> ', doc)"
   ]
  },
  {
   "cell_type": "code",
   "execution_count": 57,
   "id": "28bbd059-5ea6-4225-be27-cf5d1ae96aeb",
   "metadata": {},
   "outputs": [],
   "source": [
    "# For this exercise, we are doing a Web Crawler\n",
    "# --> The function called 'extract' must receive a html page and return a list of\n",
    "# the textual content from the paragraphs.\n",
    "\n",
    "def extrair(pagina):\n",
    "    # Getting the content between the <p> tags\n",
    "    parag = re.findall(r'<p>(.*?)</p>', pagina, re.DOTALL)\n",
    "    return parag\n",
    "\n",
    "# re.DOTALL captures multiple lines\n",
    "# (.*?) --> captures the smaller excert possible \n",
    "# .* any carachter, one or multiple times"
   ]
  },
  {
   "cell_type": "code",
   "execution_count": 58,
   "id": "1084a16c-b8e8-4775-8506-bda0b0a0bbf4",
   "metadata": {},
   "outputs": [
    {
     "name": "stdout",
     "output_type": "stream",
     "text": [
      "['Olá, LIG948B', 'Este é outro parágrafo!']\n"
     ]
    }
   ],
   "source": [
    "# Testing the function\n",
    "\n",
    "pagina = \"\"\"\n",
    "                <html>\n",
    "                <head><title>Exemplo</title></head>\n",
    "                <body>\n",
    "                <p>Olá, LIG948B</p>\n",
    "                <p>Este é outro parágrafo!</p>\n",
    "                </body>\n",
    "                </html>\n",
    "                \"\"\"\n",
    "\n",
    "print(extrair(pagina))\n"
   ]
  }
 ],
 "metadata": {
  "kernelspec": {
   "display_name": "Python [conda env:base] *",
   "language": "python",
   "name": "conda-base-py"
  },
  "language_info": {
   "codemirror_mode": {
    "name": "ipython",
    "version": 3
   },
   "file_extension": ".py",
   "mimetype": "text/x-python",
   "name": "python",
   "nbconvert_exporter": "python",
   "pygments_lexer": "ipython3",
   "version": "3.12.7"
  }
 },
 "nbformat": 4,
 "nbformat_minor": 5
}
