{
 "cells": [
  {
   "cell_type": "code",
   "execution_count": 1,
   "id": "7ecc00f3-4a0c-41e5-8495-6ec407fc5f72",
   "metadata": {},
   "outputs": [
    {
     "name": "stdout",
     "output_type": "stream",
     "text": [
      "['Oi', 'como', 'vai']\n"
     ]
    }
   ],
   "source": [
    "import re\n",
    "\n",
    "texto = 'Oi, como vai?'\n",
    "tokens = re.findall(r'\\b\\w+\\b', texto)\n",
    "print(tokens)\n"
   ]
  },
  {
   "cell_type": "code",
   "execution_count": 2,
   "id": "1b58b25d-474d-4be3-8fc4-28ad547571b3",
   "metadata": {},
   "outputs": [],
   "source": [
    "texto = 'El gato es negro y el perro es blanco'"
   ]
  },
  {
   "cell_type": "code",
   "execution_count": null,
   "id": "3c27bdde-8ae7-45a3-a82f-7bb9071c8068",
   "metadata": {},
   "outputs": [],
   "source": [
    "import nltk\n",
    "from nltk.corpus import stopwords  # <-- precisa importar isso!\n",
    "\n",
    "nltk.download('stopwords')\n",
    "\n",
    "stop_words = set(stopwords.words('spanish'))\n",
    "print(stop_words)"
   ]
  },
  {
   "cell_type": "code",
   "execution_count": null,
   "id": "0b989b2c-a960-439f-8410-de8e3e9ff9c9",
   "metadata": {},
   "outputs": [],
   "source": [
    "texto = 'Hola, ¿cómo estás? Espero que todo esté muy bien.'\n",
    "tokens = re.findall(r'\\b[\\wáéíóúñüÁÉÍÓÚÑÜ]+\\b', texto.lower())\n",
    "\n",
    "tokens_filtrados = [palavra for palavra in tokens if palavra not in stop_words]\n",
    "\n",
    "print(tokens_filtrados)\n",
    "\n",
    "# reconstruindo o texto:\n",
    "texto_sem_stopwords = ' '.join(tokens_filtrados)\n",
    "print(texto_sem_stopwords)\n"
   ]
  },
  {
   "cell_type": "code",
   "execution_count": null,
   "id": "70e237de-f0d5-4bbf-a01f-178c97845760",
   "metadata": {},
   "outputs": [],
   "source": [
    "# Usando outra bibilioteca\n",
    "# !pip install spacy"
   ]
  },
  {
   "cell_type": "code",
   "execution_count": null,
   "id": "c556c2ae-c212-4963-b2e1-608ff72350ba",
   "metadata": {},
   "outputs": [],
   "source": [
    "# Downloading a language model to work with spanish\n",
    "# !python -m spacy download es_core_news_sm\n",
    "# !pip install --upgrade --force-reinstall numpy\n",
    "#!pip install --upgrade scipy cython\n",
    "#!pip install --upgrade --force-reinstall numpy\n"
   ]
  },
  {
   "cell_type": "code",
   "execution_count": null,
   "id": "277f3ea4-9d94-481d-8811-1477b9ad4e00",
   "metadata": {},
   "outputs": [],
   "source": [
    "import spacy \n",
    "\n",
    "# Loading the model\n",
    "nlp = spacy.load('es_core_news_sm')\n",
    "texto = 'Hola, ¿cómo estás? Espero que todo esté muy bien.'\n",
    "\n",
    "# Processing the text\n",
    "doc = nlp(texto)\n",
    "\n",
    "# Filtraining tokens that are not stopwords nor punctuation\n",
    "tokens_filtrados = [token.text for token in doc if not token.is_stop and not token.is_punct]\n",
    "\n",
    "print(tokens_filtrados)\n",
    "\n",
    "# Putting the text together again\n",
    "texto_sem_stopwords = ' '.join(tokens_filtrados)\n",
    "print(texto_sem_stopwords)"
   ]
  }
 ],
 "metadata": {
  "kernelspec": {
   "display_name": "Python [conda env:base] *",
   "language": "python",
   "name": "conda-base-py"
  },
  "language_info": {
   "codemirror_mode": {
    "name": "ipython",
    "version": 3
   },
   "file_extension": ".py",
   "mimetype": "text/x-python",
   "name": "python",
   "nbconvert_exporter": "python",
   "pygments_lexer": "ipython3",
   "version": "3.12.7"
  }
 },
 "nbformat": 4,
 "nbformat_minor": 5
}
